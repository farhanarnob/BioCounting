{
  "nbformat": 4,
  "nbformat_minor": 0,
  "metadata": {
    "colab": {
      "provenance": [],
      "authorship_tag": "ABX9TyNo4GPoSK4b5x9N0TpkCfDa",
      "include_colab_link": true
    },
    "kernelspec": {
      "name": "python3",
      "display_name": "Python 3"
    },
    "language_info": {
      "name": "python"
    }
  },
  "cells": [
    {
      "cell_type": "markdown",
      "metadata": {
        "id": "view-in-github",
        "colab_type": "text"
      },
      "source": [
        "<a href=\"https://colab.research.google.com/github/farhanarnob/BioCounting/blob/main/profile_most_probable_k_mer_in_a_string.ipynb\" target=\"_parent\"><img src=\"https://colab.research.google.com/assets/colab-badge.svg\" alt=\"Open In Colab\"/></a>"
      ]
    },
    {
      "cell_type": "code",
      "execution_count": null,
      "metadata": {
        "id": "3zMyshzuIVAd",
        "colab": {
          "base_uri": "https://localhost:8080/"
        },
        "outputId": "60787a6f-77b1-415c-e1d4-1f1888e7eb8d"
      },
      "outputs": [
        {
          "output_type": "stream",
          "name": "stdout",
          "text": [
            "AAGCAGAGTTTA\n"
          ]
        }
      ],
      "source": [
        "\n",
        "def calProfile(profile, kmer):\n",
        "    probability = 1.0\n",
        "    for i in range (len(kmer)):\n",
        "        if kmer[i] == \"A\":\n",
        "            probability = probability * float(profile[0][i])\n",
        "        elif kmer[i] == \"C\":\n",
        "            probability = probability * float(profile[1][i])\n",
        "        elif kmer[i] == \"G\":\n",
        "            probability = probability * float(profile[2][i])\n",
        "        elif kmer[i] == \"T\":\n",
        "            probability = probability * float(profile[3][i])\n",
        "    return probability\n",
        "\n",
        "def mostProbableProfile(text,k,profile):\n",
        "    maxPrblity = 0.0\n",
        "    res = \"\"\n",
        "    for i in range(len(text)- k + 1):\n",
        "        kmer = text[i:i+k]\n",
        "        prblity = calProfile(profile, kmer)\n",
        "        if prblity > maxPrblity:\n",
        "            maxPrblity = prblity\n",
        "            res = kmer\n",
        "    return res \n",
        "\n",
        "if __name__ == \"__main__\":\n",
        "    input = \"\".join(open('input.txt')).split()\n",
        "    dna = input[0]\n",
        "    k = int(input[1])\n",
        "    profile = []\n",
        "    count = 0\n",
        "    for i in range(4):\n",
        "        arr = []\n",
        "        for j in range(k):\n",
        "            arr.append(input[2+count])\n",
        "            count = count + 1\n",
        "        profile.append(arr)\n",
        "    \n",
        "    res = mostProbableProfile(dna,k,profile)\n",
        "    print(res)"
      ]
    }
  ]
}